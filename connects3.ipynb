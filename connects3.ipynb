{
 "cells": [
  {
   "cell_type": "code",
   "execution_count": null,
   "id": "84a3730e",
   "metadata": {},
   "outputs": [
    {
     "name": "stdout",
     "output_type": "stream",
     "text": [
      "🔐 SHA256: c14d186215f04aedeb31d0dde4f38691b8cc48367b12607cfda40b36cbee0f40\n",
      "✅ Upload thành công: s3://hailt/de_thi_toan_lop4 (1).docx\n"
     ]
    }
   ],
   "source": [
    "import boto3\n",
    "import os\n",
    "import hashlib\n",
    "from botocore.client import Config\n",
    "\n",
    "# Hàm tính SHA256 (nếu cần kiểm tra integrity)\n",
    "def calculate_sha256(file_path):\n",
    "    sha256 = hashlib.sha256()\n",
    "    with open(file_path, 'rb') as f:\n",
    "        while chunk := f.read(8192):\n",
    "            sha256.update(chunk)\n",
    "    return sha256.hexdigest()\n",
    "\n",
    "# Cấu hình file\n",
    "file_path = '/home/hai/de_thi_toan_lop4 (1).docx'  # File thực tế\n",
    "bucket = 'hailt'\n",
    "file_name = 'de_thi_toan_lop4 (1).docx'\n",
    "\n",
    "# Khởi tạo client S3 (⚠️ dùng signature_version='s3' để tránh lỗi SHA256Mismatch)\n",
    "s3_client = boto3.client(\n",
    "    's3',\n",
    "    endpoint_url='https://vcos3.cloudstorage.com.vn',\n",
    "    aws_access_key_id='atm290327-s3user',\n",
    "    aws_secret_access_key='X6RwSQeDqUuFR4l3DETMwXOvc1qH3xlNhEEQEjYq',\n",
    "    config=Config(signature_version='s3')  # ⚠️ Đổi từ 's3v4' sang 's3'\n",
    ")\n",
    "\n",
    "try:\n",
    "    if not os.path.exists(file_path):\n",
    "        raise FileNotFoundError(f\"❌ File {file_path} không tồn tại\")\n",
    "\n",
    "    sha256_hash = calculate_sha256(file_path)\n",
    "    print(f\"🔐 SHA256: {sha256_hash}\")\n",
    "\n",
    "    # Đọc toàn bộ nội dung file\n",
    "    with open(file_path, 'rb') as f:\n",
    "        data = f.read()\n",
    "\n",
    "    # Upload file\n",
    "    s3_client.put_object(   \n",
    "        Bucket=bucket,\n",
    "        Key=file_name,\n",
    "        Body=data,\n",
    "        ContentType='application/vnd.openxmlformats-officedocument.wordprocessingml.document'\n",
    "    )\n",
    "\n",
    "    print(f\"✅ Upload thành công: s3://{bucket}/{file_name}\")\n",
    "\n",
    "except Exception as e:\n",
    "    print(f\"❌ Lỗi khi upload: {e}\")"
   ]
  },
  {
   "cell_type": "code",
   "execution_count": null,
   "id": "028b844e",
   "metadata": {},
   "outputs": [],
   "source": []
  }
 ],
 "metadata": {
  "kernelspec": {
   "display_name": "Python 3",
   "language": "python",
   "name": "python3"
  },
  "language_info": {
   "codemirror_mode": {
    "name": "ipython",
    "version": 3
   },
   "file_extension": ".py",
   "mimetype": "text/x-python",
   "name": "python",
   "nbconvert_exporter": "python",
   "pygments_lexer": "ipython3",
   "version": "3.10.12"
  }
 },
 "nbformat": 4,
 "nbformat_minor": 5
}
