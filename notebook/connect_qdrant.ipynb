{
 "cells": [
  {
   "cell_type": "code",
   "execution_count": 9,
   "id": "1953ccbd",
   "metadata": {},
   "outputs": [],
   "source": [
    "import qdrant_client\n",
    "import os\n",
    "from typing import List, Dict, Any"
   ]
  },
  {
   "cell_type": "code",
   "execution_count": 2,
   "id": "f687f785",
   "metadata": {},
   "outputs": [],
   "source": [
    "endpoint = 'https://7d15f4c4-01e3-4591-9106-b0705066ced5.us-east4-0.gcp.cloud.qdrant.io'"
   ]
  },
  {
   "cell_type": "code",
   "execution_count": 6,
   "id": "b679296e",
   "metadata": {},
   "outputs": [
    {
     "name": "stderr",
     "output_type": "stream",
     "text": [
      "/var/folders/v9/5vpscx8s60134_lcsn5c_v1w0000gq/T/ipykernel_73876/1126809851.py:1: UserWarning: Failed to obtain server version. Unable to check client-server compatibility. Set check_compatibility=False to skip version check.\n",
      "  client = qdrant_client.QdrantClient(\n"
     ]
    }
   ],
   "source": [
    "client = qdrant_client.QdrantClient(\n",
    "    url=endpoint,\n",
    "    api_key=os.getenv('QDRANT_API_KEY')\n",
    ")"
   ]
  },
  {
   "cell_type": "code",
   "execution_count": 10,
   "id": "b3d0571b",
   "metadata": {},
   "outputs": [],
   "source": [
    "class QdrantConnector:\n",
    "    def __init__(self, collection_name: str):\n",
    "        self.collection_name = collection_name\n",
    "        self.client = qdrant_client.QdrantClient(\n",
    "            url=endpoint,\n",
    "            api_key=os.getenv('QDRANT_API_KEY')\n",
    "        )\n",
    "        \n",
    "class QdrantModel(QdrantConnector):\n",
    "    def __init__(self, collection_name: str):\n",
    "        super().__init__(collection_name)\n",
    "    def search(self, query: str, limit: int = 10) -> List[Dict[str, Any]]:\n",
    "        pass"
   ]
  },
  {
   "cell_type": "code",
   "execution_count": 21,
   "id": "51c85712",
   "metadata": {},
   "outputs": [
    {
     "name": "stderr",
     "output_type": "stream",
     "text": [
      "/var/folders/v9/5vpscx8s60134_lcsn5c_v1w0000gq/T/ipykernel_73876/1526772710.py:4: UserWarning: Failed to obtain server version. Unable to check client-server compatibility. Set check_compatibility=False to skip version check.\n",
      "  self.client = qdrant_client.QdrantClient(\n"
     ]
    }
   ],
   "source": [
    "query = QdrantModel(collection_name='giao_an_collection').search('hello')"
   ]
  },
  {
   "cell_type": "code",
   "execution_count": 17,
   "id": "a1264e91",
   "metadata": {},
   "outputs": [
    {
     "ename": "AttributeError",
     "evalue": "'NoneType' object has no attribute 'count'",
     "output_type": "error",
     "traceback": [
      "\u001b[0;31m---------------------------------------------------------------------------\u001b[0m",
      "\u001b[0;31mAttributeError\u001b[0m                            Traceback (most recent call last)",
      "Cell \u001b[0;32mIn[17], line 1\u001b[0m\n\u001b[0;32m----> 1\u001b[0m \u001b[43mquery\u001b[49m\u001b[38;5;241;43m.\u001b[39;49m\u001b[43mcount\u001b[49m\n",
      "\u001b[0;31mAttributeError\u001b[0m: 'NoneType' object has no attribute 'count'"
     ]
    }
   ],
   "source": [
    "query.count"
   ]
  },
  {
   "cell_type": "code",
   "execution_count": null,
   "id": "dfb17c72",
   "metadata": {},
   "outputs": [],
   "source": []
  }
 ],
 "metadata": {
  "kernelspec": {
   "display_name": "qdrant",
   "language": "python",
   "name": ".venv"
  },
  "language_info": {
   "codemirror_mode": {
    "name": "ipython",
    "version": 3
   },
   "file_extension": ".py",
   "mimetype": "text/x-python",
   "name": "python",
   "nbconvert_exporter": "python",
   "pygments_lexer": "ipython3",
   "version": "3.10.18"
  }
 },
 "nbformat": 4,
 "nbformat_minor": 5
}
