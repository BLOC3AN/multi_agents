{
 "cells": [
  {
   "cell_type": "code",
   "execution_count": 2,
   "id": "7d34b28b",
   "metadata": {},
   "outputs": [
    {
     "name": "stderr",
     "output_type": "stream",
     "text": [
      "/Users/btk0286/hailt/multi_agents/notebook/.venv/lib/python3.10/site-packages/tqdm/auto.py:21: TqdmWarning: IProgress not found. Please update jupyter and ipywidgets. See https://ipywidgets.readthedocs.io/en/stable/user_install.html\n",
      "  from .autonotebook import tqdm as notebook_tqdm\n",
      "/Users/btk0286/hailt/multi_agents/notebook/.venv/lib/python3.10/site-packages/torch/nn/modules/module.py:1762: FutureWarning: `encoder_attention_mask` is deprecated and will be removed in version 4.55.0 for `RobertaSdpaSelfAttention.forward`.\n",
      "  return forward_call(*args, **kwargs)\n"
     ]
    },
    {
     "name": "stdout",
     "output_type": "stream",
     "text": [
      "torch.Size([4, 4])\n"
     ]
    }
   ],
   "source": [
    "from sentence_transformers import SentenceTransformer\n",
    "\n",
    "model = SentenceTransformer(\"huyydangg/DEk21_hcmute_embedding\")\n",
    "\n",
    "sentences = [\n",
    "    \"Điều 2 Quyết định 185/QĐ-UB năm 1998 Bảng giá đất tỉnh Bến Tre có nội dung như sau:\\n\\nĐiều 2. Giá đất trên được áp dụng cho những trường hợp: Tính thuế chuyển quyền sử dụng cho những trường hợp: Tính thuế chuyển quyền sử dụng đất, thu lệ phí trước bạ, thu tiền sử dụng đất khi giao đất, cho thuê đất, tính giá trị tài sản khi giao đất, bồi thường thiệt hại về đất khi Nhà nước thu hồi.\\nTrường hợp giao đất theo hình thức đấu giá, thì giá đất sẽ do Uỷ ban nhân dân tỉnh cho trường hợp cụ thể.\\nGiá cho thuê đất đối với các tổ chức, cá nhân nước ngoài hoặc xí nghiệp có vốn đầu tư nước ngoài được áp dụng theo quy định của Chính phủ.\",\n",
    "    \"Điều 2 Quyết định 55/2012/QĐ-UBND dự toán ngân sách phân bổ dự toán ngân sách 2013 Bình Dương\",\n",
    "    \"Điều 2 Quyết định 185/QĐ-UB năm 1998 Bảng giá đất tỉnh Bến Tre\",\n",
    "    \"Điều 3 Quyết định 79/2019/QĐ-UBND mức thu học phí quản lý và sử dụng học phí giáo dục mầm non Huế\"\n",
    "]\n",
    "embeddings = model.encode(sentences)\n",
    "\n",
    "similarities = model.similarity(embeddings, embeddings)\n",
    "print(similarities.shape)\n",
    "# [4, 4]"
   ]
  },
  {
   "cell_type": "code",
   "execution_count": 7,
   "id": "20f26387",
   "metadata": {},
   "outputs": [
    {
     "name": "stderr",
     "output_type": "stream",
     "text": [
      "Batches:   0%|          | 0/1 [00:00<?, ?it/s]/Users/btk0286/hailt/multi_agents/notebook/.venv/lib/python3.10/site-packages/torch/nn/modules/module.py:1762: FutureWarning: `encoder_attention_mask` is deprecated and will be removed in version 4.55.0 for `RobertaSdpaSelfAttention.forward`.\n",
      "  return forward_call(*args, **kwargs)\n",
      "Batches: 100%|██████████| 1/1 [00:00<00:00,  2.54it/s]\n"
     ]
    },
    {
     "data": {
      "text/plain": [
       "(4, 768)"
      ]
     },
     "execution_count": 7,
     "metadata": {},
     "output_type": "execute_result"
    }
   ],
   "source": [
    "embeddings = model.encode(\n",
    "    sentences,\n",
    "    show_progress_bar=True,\n",
    "    chunk_size=1024,\n",
    "    batch_size=1024\n",
    "    )\n",
    "embeddings.shape"
   ]
  },
  {
   "cell_type": "code",
   "execution_count": 12,
   "id": "12dfa487",
   "metadata": {},
   "outputs": [
    {
     "name": "stdout",
     "output_type": "stream",
     "text": [
      "✅ Đã insert vào Qdrant!\n"
     ]
    }
   ],
   "source": [
    "from qdrant_client import QdrantClient, models\n",
    "from sentence_transformers import SentenceTransformer\n",
    "import uuid\n",
    "import os\n",
    "\n",
    "# 1. Khởi tạo Qdrant client (localhost hoặc remote)\n",
    "# client = QdrantClient(host=\"localhost\", port=6333)\n",
    "client = QdrantClient(\n",
    "    url=os.getenv(\"QDRANT_URL\"),\n",
    "    api_key=os.getenv('QDRANT_CLOUD_API_KEY')\n",
    ")\n",
    "# 2. Load mô hình embedding từ HuggingFace\n",
    "model =SentenceTransformer(\"huyydangg/DEk21_hcmute_embedding\")\n",
    "\n",
    "\n",
    "# 3. Tạo collection nếu chưa có\n",
    "collection_name = os.getenv(\"QDRANT_COLLECTION\")\n",
    "\n",
    "if not client.collection_exists(collection_name=collection_name):\n",
    "    client.create_collection(\n",
    "        collection_name=collection_name,\n",
    "        vectors_config={\n",
    "            \"dense_vector\": models.VectorParams(\n",
    "                size=768,\n",
    "                distance=models.Distance.COSINE,\n",
    "            )\n",
    "        },\n",
    "        sparse_vectors_config={\n",
    "            \"bm25_sparse_vector\": models.SparseVectorParams(\n",
    "                modifier=models.Modifier.IDF # Enable BM25\n",
    "            )\n",
    "        }\n",
    "    )\n",
    "\n",
    "# 4. Danh sách văn bản cần nhúng\n",
    "texts = [\n",
    "    \"Xin chào, bạn cần gì?\",\n",
    "    \"Tôi đang tìm kiếm nhà hàng gần đây\",\n",
    "    \"Thời tiết hôm nay thế nào?\"\n",
    "]\n",
    "\n",
    "# 5. Tạo vector embedding\n",
    "dense_vectors = model.encode(texts).tolist()\n",
    "\n",
    "# 6. Chuyển thành payload và insert vào Qdrant\n",
    "points = [\n",
    "    models.PointStruct(\n",
    "        id=str(uuid.uuid4()),  # ID tự sinh, hoặc dùng int\n",
    "        vector={\"dense_vector\": dense_vectors[i]},\n",
    "        payload={\"text\": texts[i]}\n",
    "    )\n",
    "    for i in range(len(texts))\n",
    "]\n",
    "\n",
    "client.upsert(collection_name=collection_name, points=points)\n",
    "print(\"✅ Đã insert vào Qdrant!\")\n"
   ]
  },
  {
   "cell_type": "code",
   "execution_count": 14,
   "id": "0028787e",
   "metadata": {},
   "outputs": [],
   "source": [
    "from qdrant_client import models\n",
    "\n",
    "collection_name = \"my_collection_name\"\n",
    "\n",
    "if not client.collection_exists(collection_name=collection_name):\n",
    "    client.create_collection(\n",
    "        collection_name=collection_name,\n",
    "        vectors_config={\n",
    "            \"dense_vector\": models.VectorParams(\n",
    "                size=1024,\n",
    "                distance=models.Distance.COSINE\n",
    "            )\n",
    "        },\n",
    "        sparse_vectors_config={\n",
    "            \"bm25_sparse_vector\": models.SparseVectorParams(\n",
    "                modifier=models.Modifier.IDF # Enable Inverse Document Frequency\n",
    "            )\n",
    "        }\n",
    "    )"
   ]
  },
  {
   "cell_type": "code",
   "execution_count": null,
   "id": "d3492454",
   "metadata": {},
   "outputs": [],
   "source": []
  }
 ],
 "metadata": {
  "kernelspec": {
   "display_name": "qdrant",
   "language": "python",
   "name": ".venv"
  },
  "language_info": {
   "codemirror_mode": {
    "name": "ipython",
    "version": 3
   },
   "file_extension": ".py",
   "mimetype": "text/x-python",
   "name": "python",
   "nbconvert_exporter": "python",
   "pygments_lexer": "ipython3",
   "version": "3.10.18"
  }
 },
 "nbformat": 4,
 "nbformat_minor": 5
}
